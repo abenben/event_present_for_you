{
  "nbformat": 4,
  "nbformat_minor": 0,
  "metadata": {
    "colab": {
      "name": "stapy61_present_for_you.ipynb",
      "provenance": [],
      "collapsed_sections": [],
      "authorship_tag": "ABX9TyNEr4LXzIEcONQ9xw8UbeHG",
      "include_colab_link": true
    },
    "kernelspec": {
      "name": "python3",
      "display_name": "Python 3"
    }
  },
  "cells": [
    {
      "cell_type": "markdown",
      "metadata": {
        "id": "view-in-github",
        "colab_type": "text"
      },
      "source": [
        "<a href=\"https://colab.research.google.com/github/abenben/stapy61_present_for_you/blob/master/stapy61_present_for_you.ipynb\" target=\"_parent\"><img src=\"https://colab.research.google.com/assets/colab-badge.svg\" alt=\"Open In Colab\"/></a>"
      ]
    },
    {
      "cell_type": "code",
      "metadata": {
        "id": "I6VIu2d8CmVD",
        "colab_type": "code",
        "colab": {}
      },
      "source": [
        "!pip install gspread"
      ],
      "execution_count": null,
      "outputs": []
    },
    {
      "cell_type": "code",
      "metadata": {
        "id": "qxQZVlDfDU--",
        "colab_type": "code",
        "colab": {}
      },
      "source": [
        "import gspread\n",
        "print(gspread.__version__)"
      ],
      "execution_count": null,
      "outputs": []
    },
    {
      "cell_type": "code",
      "metadata": {
        "id": "HGDpHTirDbD9",
        "colab_type": "code",
        "colab": {}
      },
      "source": [
        "from google.colab import auth\n",
        "from oauth2client.client import GoogleCredentials\n",
        "import gspread\n",
        "import random\n",
        "import pandas as pd\n",
        "\n",
        "auth.authenticate_user()\n",
        "gc = gspread.authorize(GoogleCredentials.get_application_default())"
      ],
      "execution_count": null,
      "outputs": []
    },
    {
      "cell_type": "code",
      "metadata": {
        "id": "wmFJQkNXDeT1",
        "colab_type": "code",
        "colab": {}
      },
      "source": [
        "worksheet = gc.open_by_url('https://docs.google.com/spreadsheets/d/1YV9L2nvrtA9SCfjoMpvE5H9zgAFNP4X_kA6o8oS36y0/edit').sheet1\n",
        "rows = worksheet.get_all_values()\n",
        "\n",
        "df = pd.DataFrame.from_records(rows)\n",
        "len(df) - 1\n",
        "print(\"抽選開始\")"
      ],
      "execution_count": null,
      "outputs": []
    },
    {
      "cell_type": "code",
      "metadata": {
        "id": "0fshnhr2EBXk",
        "colab_type": "code",
        "colab": {}
      },
      "source": [
        "def targets( bookname, df_filter ):\n",
        "\n",
        "  count=len(df_filter)\n",
        "  print(\"書籍名={1},申込数={0}\".format(count,bookname))\n",
        "  print(df_filter[2])\n",
        "\n",
        "def congrats( bookname, df_filter ):\n",
        "\n",
        "  index = random.randint(0, len(df_filter)-1)\n",
        "  print(\"「 {0} 」さん、『 {1} 』が当たりました。\\nおめでとうございます！\".format(df_filter.iloc[index][2], bookname))"
      ],
      "execution_count": null,
      "outputs": []
    },
    {
      "cell_type": "code",
      "metadata": {
        "id": "6fXL-RfEE8eJ",
        "colab_type": "code",
        "colab": {}
      },
      "source": [
        "b1= \"改訂版　Pythonユーザのための Jupyter［実践］\"\n",
        "d1=df[ df[3]==\"申し込む\" ]\n",
        "targets( b1,d1 )"
      ],
      "execution_count": null,
      "outputs": []
    },
    {
      "cell_type": "code",
      "metadata": {
        "id": "47GTJOZ1FBUp",
        "colab_type": "code",
        "colab": {}
      },
      "source": [
        "congrats( b1, d1 )"
      ],
      "execution_count": null,
      "outputs": []
    },
    {
      "cell_type": "code",
      "metadata": {
        "id": "cJtqrsPbFEQ8",
        "colab_type": "code",
        "colab": {}
      },
      "source": [
        "b2= \"いちばんやさしいPythonの教本 第2版\"\n",
        "d2=df[ df[4]==\"「応募条件」に承諾して申し込む\" ]\n",
        "targets( b2,d2 )"
      ],
      "execution_count": null,
      "outputs": []
    },
    {
      "cell_type": "code",
      "metadata": {
        "id": "zSIkSH1JLOb3",
        "colab_type": "code",
        "colab": {}
      },
      "source": [
        "print(\"1冊目\")\n",
        "congrats( b2, d2 )"
      ],
      "execution_count": null,
      "outputs": []
    },
    {
      "cell_type": "code",
      "metadata": {
        "id": "8y12lU5WStyt",
        "colab_type": "code",
        "colab": {}
      },
      "source": [
        "print(\"2冊目\")\n",
        "congrats( b2, d2 )"
      ],
      "execution_count": null,
      "outputs": []
    },
    {
      "cell_type": "code",
      "metadata": {
        "id": "QGhMC9CFLf67",
        "colab_type": "code",
        "colab": {}
      },
      "source": [
        "b3= \"「最短距離でゼロからしっかり学ぶ Python入門 必修編」＆「最短距離でゼロからしっかり学ぶ Python入門 実践編」 2冊セット\"\n",
        "d3=df[ df[5]==\"「応募条件」に承諾して申し込む\" ]\n",
        "targets( b3,d3 )"
      ],
      "execution_count": null,
      "outputs": []
    },
    {
      "cell_type": "code",
      "metadata": {
        "id": "dGOQoKU8LjrG",
        "colab_type": "code",
        "colab": {}
      },
      "source": [
        "print(\"1セット目\")\n",
        "congrats( b3, d3 )"
      ],
      "execution_count": null,
      "outputs": []
    },
    {
      "cell_type": "code",
      "metadata": {
        "id": "mASL-Gm6S1v4",
        "colab_type": "code",
        "colab": {}
      },
      "source": [
        "print(\"2セット目\")\n",
        "congrats( b3, d3 )"
      ],
      "execution_count": null,
      "outputs": []
    },
    {
      "cell_type": "code",
      "metadata": {
        "id": "kzBr41w1Ll1j",
        "colab_type": "code",
        "colab": {}
      },
      "source": [
        ""
      ],
      "execution_count": null,
      "outputs": []
    }
  ]
}